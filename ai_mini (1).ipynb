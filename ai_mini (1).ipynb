{
  "nbformat": 4,
  "nbformat_minor": 0,
  "metadata": {
    "colab": {
      "name": "ai_mini.ipynb",
      "provenance": [],
      "collapsed_sections": []
    },
    "kernelspec": {
      "name": "python3",
      "display_name": "Python 3"
    },
    "language_info": {
      "name": "python"
    },
    "widgets": {
      "application/vnd.jupyter.widget-state+json": {
        "3e9b8d8ef16646da9dde2b8b32b660a8": {
          "model_module": "@jupyter-widgets/controls",
          "model_name": "HBoxModel",
          "model_module_version": "1.5.0",
          "state": {
            "_view_name": "HBoxView",
            "_dom_classes": [],
            "_model_name": "HBoxModel",
            "_view_module": "@jupyter-widgets/controls",
            "_model_module_version": "1.5.0",
            "_view_count": null,
            "_view_module_version": "1.5.0",
            "box_style": "",
            "layout": "IPY_MODEL_a5304781871b4ab9af71e1351a8c7979",
            "_model_module": "@jupyter-widgets/controls",
            "children": [
              "IPY_MODEL_ab4665aa2a3e45769006f4c73c774aa8",
              "IPY_MODEL_92a77094a16d4898a7ff5dce3ee76a6b",
              "IPY_MODEL_e4c1b48317d241bca9f978331f43d523"
            ]
          }
        },
        "a5304781871b4ab9af71e1351a8c7979": {
          "model_module": "@jupyter-widgets/base",
          "model_name": "LayoutModel",
          "model_module_version": "1.2.0",
          "state": {
            "_view_name": "LayoutView",
            "grid_template_rows": null,
            "right": null,
            "justify_content": null,
            "_view_module": "@jupyter-widgets/base",
            "overflow": null,
            "_model_module_version": "1.2.0",
            "_view_count": null,
            "flex_flow": null,
            "width": null,
            "min_width": null,
            "border": null,
            "align_items": null,
            "bottom": null,
            "_model_module": "@jupyter-widgets/base",
            "top": null,
            "grid_column": null,
            "overflow_y": null,
            "overflow_x": null,
            "grid_auto_flow": null,
            "grid_area": null,
            "grid_template_columns": null,
            "flex": null,
            "_model_name": "LayoutModel",
            "justify_items": null,
            "grid_row": null,
            "max_height": null,
            "align_content": null,
            "visibility": null,
            "align_self": null,
            "height": null,
            "min_height": null,
            "padding": null,
            "grid_auto_rows": null,
            "grid_gap": null,
            "max_width": null,
            "order": null,
            "_view_module_version": "1.2.0",
            "grid_template_areas": null,
            "object_position": null,
            "object_fit": null,
            "grid_auto_columns": null,
            "margin": null,
            "display": null,
            "left": null
          }
        },
        "ab4665aa2a3e45769006f4c73c774aa8": {
          "model_module": "@jupyter-widgets/controls",
          "model_name": "HTMLModel",
          "model_module_version": "1.5.0",
          "state": {
            "_view_name": "HTMLView",
            "style": "IPY_MODEL_3c08bf35df134afc8015c09107cd9ba2",
            "_dom_classes": [],
            "description": "",
            "_model_name": "HTMLModel",
            "placeholder": "​",
            "_view_module": "@jupyter-widgets/controls",
            "_model_module_version": "1.5.0",
            "value": "Searching suitable solution: 100%",
            "_view_count": null,
            "_view_module_version": "1.5.0",
            "description_tooltip": null,
            "_model_module": "@jupyter-widgets/controls",
            "layout": "IPY_MODEL_69e6d066521b46e5a6fd9673a29ac00e"
          }
        },
        "92a77094a16d4898a7ff5dce3ee76a6b": {
          "model_module": "@jupyter-widgets/controls",
          "model_name": "FloatProgressModel",
          "model_module_version": "1.5.0",
          "state": {
            "_view_name": "ProgressView",
            "style": "IPY_MODEL_1bd259e167b84ea9b121e518f7fae268",
            "_dom_classes": [],
            "description": "",
            "_model_name": "FloatProgressModel",
            "bar_style": "success",
            "max": 300,
            "_view_module": "@jupyter-widgets/controls",
            "_model_module_version": "1.5.0",
            "value": 300,
            "_view_count": null,
            "_view_module_version": "1.5.0",
            "orientation": "horizontal",
            "min": 0,
            "description_tooltip": null,
            "_model_module": "@jupyter-widgets/controls",
            "layout": "IPY_MODEL_cdec5682991947cd8df67a7b0d6efa54"
          }
        },
        "e4c1b48317d241bca9f978331f43d523": {
          "model_module": "@jupyter-widgets/controls",
          "model_name": "HTMLModel",
          "model_module_version": "1.5.0",
          "state": {
            "_view_name": "HTMLView",
            "style": "IPY_MODEL_cb6b7323e22e4e0bb368a66a8b241c82",
            "_dom_classes": [],
            "description": "",
            "_model_name": "HTMLModel",
            "placeholder": "​",
            "_view_module": "@jupyter-widgets/controls",
            "_model_module_version": "1.5.0",
            "value": " 300/300 [00:17&lt;00:00, 17.34it/s]",
            "_view_count": null,
            "_view_module_version": "1.5.0",
            "description_tooltip": null,
            "_model_module": "@jupyter-widgets/controls",
            "layout": "IPY_MODEL_eeba247465354e9d8edd583da66131f1"
          }
        },
        "3c08bf35df134afc8015c09107cd9ba2": {
          "model_module": "@jupyter-widgets/controls",
          "model_name": "DescriptionStyleModel",
          "model_module_version": "1.5.0",
          "state": {
            "_view_name": "StyleView",
            "_model_name": "DescriptionStyleModel",
            "description_width": "",
            "_view_module": "@jupyter-widgets/base",
            "_model_module_version": "1.5.0",
            "_view_count": null,
            "_view_module_version": "1.2.0",
            "_model_module": "@jupyter-widgets/controls"
          }
        },
        "69e6d066521b46e5a6fd9673a29ac00e": {
          "model_module": "@jupyter-widgets/base",
          "model_name": "LayoutModel",
          "model_module_version": "1.2.0",
          "state": {
            "_view_name": "LayoutView",
            "grid_template_rows": null,
            "right": null,
            "justify_content": null,
            "_view_module": "@jupyter-widgets/base",
            "overflow": null,
            "_model_module_version": "1.2.0",
            "_view_count": null,
            "flex_flow": null,
            "width": null,
            "min_width": null,
            "border": null,
            "align_items": null,
            "bottom": null,
            "_model_module": "@jupyter-widgets/base",
            "top": null,
            "grid_column": null,
            "overflow_y": null,
            "overflow_x": null,
            "grid_auto_flow": null,
            "grid_area": null,
            "grid_template_columns": null,
            "flex": null,
            "_model_name": "LayoutModel",
            "justify_items": null,
            "grid_row": null,
            "max_height": null,
            "align_content": null,
            "visibility": null,
            "align_self": null,
            "height": null,
            "min_height": null,
            "padding": null,
            "grid_auto_rows": null,
            "grid_gap": null,
            "max_width": null,
            "order": null,
            "_view_module_version": "1.2.0",
            "grid_template_areas": null,
            "object_position": null,
            "object_fit": null,
            "grid_auto_columns": null,
            "margin": null,
            "display": null,
            "left": null
          }
        },
        "1bd259e167b84ea9b121e518f7fae268": {
          "model_module": "@jupyter-widgets/controls",
          "model_name": "ProgressStyleModel",
          "model_module_version": "1.5.0",
          "state": {
            "_view_name": "StyleView",
            "_model_name": "ProgressStyleModel",
            "description_width": "",
            "_view_module": "@jupyter-widgets/base",
            "_model_module_version": "1.5.0",
            "_view_count": null,
            "_view_module_version": "1.2.0",
            "bar_color": null,
            "_model_module": "@jupyter-widgets/controls"
          }
        },
        "cdec5682991947cd8df67a7b0d6efa54": {
          "model_module": "@jupyter-widgets/base",
          "model_name": "LayoutModel",
          "model_module_version": "1.2.0",
          "state": {
            "_view_name": "LayoutView",
            "grid_template_rows": null,
            "right": null,
            "justify_content": null,
            "_view_module": "@jupyter-widgets/base",
            "overflow": null,
            "_model_module_version": "1.2.0",
            "_view_count": null,
            "flex_flow": null,
            "width": null,
            "min_width": null,
            "border": null,
            "align_items": null,
            "bottom": null,
            "_model_module": "@jupyter-widgets/base",
            "top": null,
            "grid_column": null,
            "overflow_y": null,
            "overflow_x": null,
            "grid_auto_flow": null,
            "grid_area": null,
            "grid_template_columns": null,
            "flex": null,
            "_model_name": "LayoutModel",
            "justify_items": null,
            "grid_row": null,
            "max_height": null,
            "align_content": null,
            "visibility": null,
            "align_self": null,
            "height": null,
            "min_height": null,
            "padding": null,
            "grid_auto_rows": null,
            "grid_gap": null,
            "max_width": null,
            "order": null,
            "_view_module_version": "1.2.0",
            "grid_template_areas": null,
            "object_position": null,
            "object_fit": null,
            "grid_auto_columns": null,
            "margin": null,
            "display": null,
            "left": null
          }
        },
        "cb6b7323e22e4e0bb368a66a8b241c82": {
          "model_module": "@jupyter-widgets/controls",
          "model_name": "DescriptionStyleModel",
          "model_module_version": "1.5.0",
          "state": {
            "_view_name": "StyleView",
            "_model_name": "DescriptionStyleModel",
            "description_width": "",
            "_view_module": "@jupyter-widgets/base",
            "_model_module_version": "1.5.0",
            "_view_count": null,
            "_view_module_version": "1.2.0",
            "_model_module": "@jupyter-widgets/controls"
          }
        },
        "eeba247465354e9d8edd583da66131f1": {
          "model_module": "@jupyter-widgets/base",
          "model_name": "LayoutModel",
          "model_module_version": "1.2.0",
          "state": {
            "_view_name": "LayoutView",
            "grid_template_rows": null,
            "right": null,
            "justify_content": null,
            "_view_module": "@jupyter-widgets/base",
            "overflow": null,
            "_model_module_version": "1.2.0",
            "_view_count": null,
            "flex_flow": null,
            "width": null,
            "min_width": null,
            "border": null,
            "align_items": null,
            "bottom": null,
            "_model_module": "@jupyter-widgets/base",
            "top": null,
            "grid_column": null,
            "overflow_y": null,
            "overflow_x": null,
            "grid_auto_flow": null,
            "grid_area": null,
            "grid_template_columns": null,
            "flex": null,
            "_model_name": "LayoutModel",
            "justify_items": null,
            "grid_row": null,
            "max_height": null,
            "align_content": null,
            "visibility": null,
            "align_self": null,
            "height": null,
            "min_height": null,
            "padding": null,
            "grid_auto_rows": null,
            "grid_gap": null,
            "max_width": null,
            "order": null,
            "_view_module_version": "1.2.0",
            "grid_template_areas": null,
            "object_position": null,
            "object_fit": null,
            "grid_auto_columns": null,
            "margin": null,
            "display": null,
            "left": null
          }
        }
      }
    }
  },
  "cells": [
    {
      "cell_type": "markdown",
      "metadata": {
        "id": "9gMzr-Sy_sWs"
      },
      "source": [
        "# Importing libraries"
      ]
    },
    {
      "cell_type": "code",
      "metadata": {
        "id": "d4HyG0_Z2qy_"
      },
      "source": [
        "import numpy as np\n",
        "import random\n",
        "import cv2\n",
        "from google.colab.patches import cv2_imshow\n",
        "import operator"
      ],
      "execution_count": null,
      "outputs": []
    },
    {
      "cell_type": "markdown",
      "metadata": {
        "id": "Yti2Nt66fK0m"
      },
      "source": [
        "# Code for Cities and Routes and Showing Maps"
      ]
    },
    {
      "cell_type": "code",
      "metadata": {
        "id": "f4C4F6rXfQuR"
      },
      "source": [
        "class City:\n",
        "    def __init__(self, x, y):\n",
        "        self.x = x\n",
        "        self.y = y\n",
        "    \n",
        "    def coordinate(self):\n",
        "        return (self.x, self.y)\n",
        "    \n",
        "    def __rshift__(self, city):\n",
        "        xDis = abs(self.x - city.x)\n",
        "        yDis = abs(self.y - city.y)\n",
        "        distance = np.sqrt((xDis ** 2) + (yDis ** 2))\n",
        "        #distance = xDis + yDis\n",
        "        return distance\n",
        "    \n",
        "    def __lshift__(self, city):\n",
        "        xDis = abs(self.x - city.x)\n",
        "        yDis = abs(self.y - city.y)\n",
        "        distance = np.sqrt((xDis ** 2) + (yDis ** 2))\n",
        "        #distance = xDis + yDis\n",
        "        return distance\n",
        "    \n",
        "    def __repr__(self):\n",
        "        return \"(\" + str(self.x) + \",\" + str(self.y) + \")\"\n",
        "\n",
        "class Route(list):\n",
        "    def __init__(self):\n",
        "        self.fitness = 0\n",
        "        self.distance = 0\n",
        "    \n",
        "    def __init__(self, list:list):\n",
        "        self.fitness = 0\n",
        "        self.distance = 0\n",
        "        for city in list:\n",
        "            self.append(city)\n",
        "    \n",
        "    def append(self, city: City):\n",
        "        if super().__len__() != 0: #checking route has some length\n",
        "            self.distance += super().__getitem__(-1) >> city #finding distance between cities\n",
        "        super().append(city)\n",
        "    \n",
        "    def __getitem__(self, sliced):\n",
        "        return super().__getitem__(sliced)   # to slice out cities\n",
        "    \n",
        "    def __len__(self):\n",
        "        return super().__len__()\n",
        "    \n",
        "    def calculate_fitness(self):\n",
        "        self.fitness = 1 / float(self.distance)\n",
        "\n",
        "def show_map(cities, best_route=None, MAP_HEIGHT=500, MAP_WIDTH=500, file_name=None):\n",
        "    map = np.zeros((MAP_HEIGHT, MAP_WIDTH, 3), np.uint8)\n",
        "    banner = np.ones((50, MAP_WIDTH, 3), np.uint8) * 255\n",
        "    map = np.vstack([map, banner])\n",
        "    for city in cities:\n",
        "        cv2.circle(map, city.coordinate(), 5, (255,0,0), -1)\n",
        "    \n",
        "    if best_route != None: #\n",
        "        for i in range(0, len(best_route) - 1):\n",
        "            cv2.line(map, best_route[i].coordinate(), best_route[i+1].coordinate(), (255,255,255), 2, 0)\n",
        "        cv2.putText(map, 'Distance: {:.1f}'.format(best_route.distance), (0, MAP_HEIGHT+40), cv2.FONT_HERSHEY_SIMPLEX, 1, (0, 255, 0), 2, 1)\n",
        "\n",
        "    if file_name != None:\n",
        "      cv2.imwrite(file_name, map)\n",
        "    cv2_imshow(map)"
      ],
      "execution_count": null,
      "outputs": []
    },
    {
      "cell_type": "markdown",
      "metadata": {
        "id": "ycQt1v0Q_vL3"
      },
      "source": [
        "# Generating Random Cities"
      ]
    },
    {
      "cell_type": "code",
      "metadata": {
        "id": "UX3S6uEh28ka"
      },
      "source": [
        "MAX_CITIES = 30\n",
        "MAP_HEIGHT, MAP_WIDTH = 500, 400"
      ],
      "execution_count": null,
      "outputs": []
    },
    {
      "cell_type": "markdown",
      "metadata": {
        "id": "dpXUDi5C9XSf"
      },
      "source": [
        "How to create a city and use it"
      ]
    },
    {
      "cell_type": "code",
      "metadata": {
        "id": "OKcUsjRn3H2i"
      },
      "source": [
        "# Sample to create and use cities\n",
        "# create new cities with their coordinates\n",
        "city1 = City(0,0)\n",
        "city2 = City(10,5)\n",
        "city3 = City(10,15)"
      ],
      "execution_count": null,
      "outputs": []
    },
    {
      "cell_type": "code",
      "metadata": {
        "colab": {
          "base_uri": "https://localhost:8080/"
        },
        "id": "PkevFC3B3R6n",
        "outputId": "7ab1eee3-e3db-4b90-e344-5bef2aa725c0"
      },
      "source": [
        "# calculate distance between cities\n",
        "# we can use << or >> to calculate distance between two cities\n",
        "distance1 = city1 << city2\n",
        "distance2 = city1 >> city2\n",
        "distance3 = city1 << city3\n",
        "print('Distance from {} to {} is {}'.format(city2, city1, distance1))\n",
        "print('Distance from {} to {} is {}'.format(city1, city2, distance2))\n",
        "print('Distance from {} to {} is {}'.format(city1, city3, distance3))"
      ],
      "execution_count": null,
      "outputs": [
        {
          "output_type": "stream",
          "name": "stdout",
          "text": [
            "Distance from (10,5) to (0,0) is 11.180339887498949\n",
            "Distance from (0,0) to (10,5) is 11.180339887498949\n",
            "Distance from (0,0) to (10,15) is 18.027756377319946\n"
          ]
        }
      ]
    },
    {
      "cell_type": "code",
      "metadata": {
        "id": "7uhhgpqf3YKP",
        "colab": {
          "base_uri": "https://localhost:8080/",
          "height": 567
        },
        "outputId": "289544a5-73d5-4404-b8ae-b97e3f041632"
      },
      "source": [
        "# Creating random cities within map \n",
        "def generate_cities():\n",
        "    return [ City(random.randrange(0, MAP_WIDTH),random.randrange(0, MAP_HEIGHT)) for _ in range(MAX_CITIES)]\n",
        "\n",
        "cities = generate_cities()\n",
        "\n",
        "# function to show map\n",
        "show_map(cities, MAP_HEIGHT=MAP_HEIGHT, MAP_WIDTH=MAP_WIDTH)"
      ],
      "execution_count": null,
      "outputs": [
        {
          "output_type": "display_data",
          "data": {
            "image/png": "[encoded data removed]",
            "text/plain": [
              "<PIL.Image.Image image mode=RGB size=400x550 at 0x7F248D24DA50>"
            ]
          },
          "metadata": {}
        }
      ]
    },
    {
      "cell_type": "markdown",
      "metadata": {
        "id": "rsJ_Bcf4KAs7"
      },
      "source": [
        "# Generate random generation"
      ]
    },
    {
      "cell_type": "markdown",
      "metadata": {
        "id": "Yz0WqqL-9R4F"
      },
      "source": [
        "How to create Route and use it?"
      ]
    },
    {
      "cell_type": "code",
      "metadata": {
        "colab": {
          "base_uri": "https://localhost:8080/"
        },
        "id": "TYrceeN38vZD",
        "outputId": "55b16aa0-9c09-46fe-d44e-4e7a84a81ea9"
      },
      "source": [
        "route = Route([city1, city2, city3])\n",
        "print(route)"
      ],
      "execution_count": null,
      "outputs": [
        {
          "output_type": "stream",
          "name": "stdout",
          "text": [
            "[(0,0), (10,5), (10,15)]\n"
          ]
        }
      ]
    },
    {
      "cell_type": "code",
      "metadata": {
        "colab": {
          "base_uri": "https://localhost:8080/"
        },
        "id": "UUklfBCc81G_",
        "outputId": "d4529f2d-4c36-4d46-9e34-1848f5b3a4e1"
      },
      "source": [
        "print('Total distance of route: ', route.distance)"
      ],
      "execution_count": null,
      "outputs": [
        {
          "output_type": "stream",
          "name": "stdout",
          "text": [
            "Total distance of route:  21.18033988749895\n"
          ]
        }
      ]
    },
    {
      "cell_type": "code",
      "metadata": {
        "colab": {
          "base_uri": "https://localhost:8080/"
        },
        "id": "gU9_8SBx9AXV",
        "outputId": "04fb38a7-bcfd-48ab-8f5d-c00b077fdfbb"
      },
      "source": [
        "# calculate fitness of route\n",
        "route.calculate_fitness()\n",
        "print('Fitness of route: ', route.fitness)"
      ],
      "execution_count": null,
      "outputs": [
        {
          "output_type": "stream",
          "name": "stdout",
          "text": [
            "Fitness of route:  0.04721359549995794\n"
          ]
        }
      ]
    },
    {
      "cell_type": "code",
      "metadata": {
        "id": "61wF02ho7_jY"
      },
      "source": [
        "GENERATION_SIZE = 400\n",
        " \n",
        "# function to create random generation (random routes)\n",
        "def first_generation(cities):\n",
        "    generation = []\n",
        "    for i in range(0, GENERATION_SIZE):\n",
        "        # generating random route (random combination of cities)\n",
        "        route_list = random.sample(cities, len(cities))\n",
        "        route = Route(route_list)\n",
        "        # after creating route we need to calculate fitness of the route. It will automatically be stored in route\n",
        "        route.calculate_fitness()\n",
        "        generation.append(route)\n",
        "    \n",
        "    return generation\n",
        "new_generation = first_generation(cities)"
      ],
      "execution_count": null,
      "outputs": []
    },
    {
      "cell_type": "markdown",
      "metadata": {
        "id": "UqF8fO69KHdN"
      },
      "source": [
        "# Finding best route in current generation"
      ]
    },
    {
      "cell_type": "code",
      "metadata": {
        "id": "KFFomPMZ8z2Y"
      },
      "source": [
        "# function to find best route from generation (best route will have highest fitness)\n",
        "def get_best_route(generation):\n",
        "    best_fitness = -1\n",
        "    best_route = None\n",
        "    for route in generation:\n",
        "        if best_fitness < route.fitness:\n",
        "            best_fitness = route.fitness\n",
        "            best_route = route\n",
        "    return best_route\n",
        "current_best_route = get_best_route(new_generation)"
      ],
      "execution_count": null,
      "outputs": []
    },
    {
      "cell_type": "code",
      "metadata": {
        "colab": {
          "base_uri": "https://localhost:8080/"
        },
        "id": "CkTZKilB_9H5",
        "outputId": "6abfd461-df45-40cf-d7d1-1a9861040bbb"
      },
      "source": [
        "print('Fitness of current best route: ',current_best_route.fitness)\n",
        "print('Total distance of current best route: ',current_best_route.distance)"
      ],
      "execution_count": null,
      "outputs": [
        {
          "output_type": "stream",
          "name": "stdout",
          "text": [
            "Fitness of current best route:  0.0002137925502761905\n",
            "Total distance of current best route:  4677.431457308207\n"
          ]
        }
      ]
    },
    {
      "cell_type": "code",
      "metadata": {
        "id": "RdpA-OAL88aZ",
        "colab": {
          "base_uri": "https://localhost:8080/",
          "height": 567
        },
        "outputId": "1c7e7fd3-b692-4724-f303-aed65e6fbd60"
      },
      "source": [
        "show_map(cities, MAP_HEIGHT = MAP_HEIGHT, MAP_WIDTH = MAP_WIDTH, best_route = current_best_route, file_name='initial.jpg') "
      ],
      "execution_count": null,
      "outputs": [
        {
          "output_type": "display_data",
          "data": {
            "image/png": "[encoded data removed]",
            "text/plain": [
              "<PIL.Image.Image image mode=RGB size=400x550 at 0x7F248D172B10>"
            ]
          },
          "metadata": {}
        }
      ]
    },
    {
      "cell_type": "markdown",
      "metadata": {
        "id": "Y1v_HaDaKTiX"
      },
      "source": [
        "# Genetic Algorithm"
      ]
    },
    {
      "cell_type": "markdown",
      "metadata": {
        "id": "RZLULUzHKLfI"
      },
      "source": [
        "## Selection (Tournament) "
      ]
    },
    {
      "cell_type": "code",
      "metadata": {
        "id": "JD8NNASG9CLh"
      },
      "source": [
        "# function to sort routes based on their fitness score\n",
        "def rank_generation(generation):\n",
        "    return sorted(generation, key=operator.attrgetter('fitness'), reverse=True)"
      ],
      "execution_count": null,
      "outputs": []
    },
    {
      "cell_type": "code",
      "metadata": {
        "id": "GD8OIvc_BQr3"
      },
      "source": [
        "ELITE_SIZE = 40\n",
        "TOURNAMENT_SIZE = 5\n",
        "\n",
        "# function to select best routes from generation\n",
        "# fittest will survive, else will die\n",
        "def select_generation(ranked_generation):\n",
        "    selected = [ranked_generation[i] for i in range(ELITE_SIZE)]\n",
        "    \n",
        "    for i in range(len(ranked_generation) - ELITE_SIZE):\n",
        "        # select random 'k' for tournament\n",
        "        random_k = random.sample(ranked_generation, TOURNAMENT_SIZE)\n",
        "        # select best among 'k'\n",
        "        won = max(random_k, key=operator.attrgetter('fitness'))\n",
        "        selected.append(won)\n",
        "    return selected"
      ],
      "execution_count": null,
      "outputs": []
    },
    {
      "cell_type": "markdown",
      "metadata": {
        "id": "vYtpqTzOKPkn"
      },
      "source": [
        "## Crossover"
      ]
    },
    {
      "cell_type": "code",
      "metadata": {
        "id": "OjEwoygtB2JI"
      },
      "source": [
        "# function to mate two routes (parents) and generate two children\n",
        "def mate(parent1, parent2):\n",
        "    i = random.randint(0, len(parent1)-1)\n",
        "    j = random.randint(0, len(parent1)-1)\n",
        "    min_index = min([i, j])\n",
        "    max_index = max([i, j])\n",
        "    \n",
        "    parent1_gene = parent1[min_index:max_index]\n",
        "    parent2_gene = parent1[min_index:max_index]\n",
        "\n",
        "    child_one = []\n",
        "    child_one.extend(parent2_gene)\n",
        "    child_one.extend([city for city in parent1 if city not in parent2_gene])\n",
        "    \n",
        "    child_two = []\n",
        "    child_two.extend(parent1_gene)\n",
        "    child_two.extend([city for city in parent2 if city not in parent1_gene])\n",
        "    \n",
        "    child_one = Route(child_one)\n",
        "    child_one.calculate_fitness()\n",
        "    child_two = Route(child_two)\n",
        "    child_two.calculate_fitness()    \n",
        "    return [child_one, child_two]    \n",
        "\n",
        "# function to perform crossover over whole generation \n",
        "# base function to call mate function\n",
        "def crossover(selection):\n",
        "    random.shuffle(selection)\n",
        "    new_generation = []\n",
        "    for i in range(0, GENERATION_SIZE, 2):\n",
        "        children = mate(selection[i], selection[i+1])\n",
        "        new_generation.extend(children)\n",
        "    return new_generation"
      ],
      "execution_count": null,
      "outputs": []
    },
    {
      "cell_type": "markdown",
      "metadata": {
        "id": "Ls7pZbJMKRvc"
      },
      "source": [
        "## Mutation"
      ]
    },
    {
      "cell_type": "code",
      "metadata": {
        "id": "dBPl66LiOqQM"
      },
      "source": [
        "mp = 0.01\n",
        "child = [1, 2, 3, 4, 5]\n",
        "random_probability_for_each_value_in_gene = [0.1, 0.02, 0.4, 0.6, 0.9]\n",
        "rn = 3\n",
        "mutated_child = [1, 4, 3, 2, 5]"
      ],
      "execution_count": null,
      "outputs": []
    },
    {
      "cell_type": "code",
      "metadata": {
        "id": "2tPJVqocCIeP"
      },
      "source": [
        "MUTATION_RATE = 0.01\n",
        "\n",
        "# function to mutate individual route\n",
        "def mutate_individual(individual):\n",
        "    for i in range(len(individual)):\n",
        "        if random.random() < MUTATION_RATE:\n",
        "            # perform mutation if random value is smaller than MUTATION_RATE\n",
        "            random_j = random.randint(0, len(individual)-1)\n",
        "            # swap cities in route\n",
        "            city = individual[i]\n",
        "            individual[i] = individual[random_j]\n",
        "            individual[random_j] = city\n",
        "    return individual\n",
        "\n",
        "# function to perform mutation in whole generation\n",
        "# base bunction to call mutate_individual\n",
        "def mutation(crossovered):\n",
        "    mutated = []\n",
        "    for individual in crossovered:\n",
        "        mutated.append(mutate_individual(individual))\n",
        "    return mutated"
      ],
      "execution_count": null,
      "outputs": []
    },
    {
      "cell_type": "code",
      "metadata": {
        "id": "iDPMg4NRCgfR"
      },
      "source": [
        "# funtion to generate new generation by \n",
        "# 1. ranking routes\n",
        "# 2. selecting fittest route for mating\n",
        "# 3. Performing crossover (mating)\n",
        "# 4. Perform mutaion\n",
        "\n",
        "def next_generation(current_generation):\n",
        "    ranked_generation = rank_generation(current_generation)\n",
        "    selection = select_generation(ranked_generation)\n",
        "    crossovered = crossover(selection)\n",
        "    mutated = mutation(crossovered)\n",
        "    return mutated"
      ],
      "execution_count": null,
      "outputs": []
    },
    {
      "cell_type": "markdown",
      "metadata": {
        "id": "PpjQv6XSDbcM"
      },
      "source": [
        "# Final"
      ]
    },
    {
      "cell_type": "code",
      "metadata": {
        "id": "3g3EOhSJKxMN"
      },
      "source": [
        "# Change parameters (if you want)\n",
        "\n",
        "MAX_CITIES = 30\n",
        "MAP_HEIGHT, MAP_WIDTH = 500, 400\n",
        "\n",
        "GENERATION_SIZE = 400\n",
        "GENERATIONS = 300\n",
        "ELITE_SIZE = 50\n",
        "TOURNAMENT_SIZE = 5\n",
        "MUTATION_RATE = 0.01"
      ],
      "execution_count": null,
      "outputs": []
    },
    {
      "cell_type": "code",
      "metadata": {
        "id": "c4aqpdVJGLRu"
      },
      "source": [
        "from google.colab import output\n",
        "from tqdm.notebook import tqdm"
      ],
      "execution_count": null,
      "outputs": []
    },
    {
      "cell_type": "code",
      "metadata": {
        "colab": {
          "base_uri": "https://localhost:8080/",
          "height": 49,
          "referenced_widgets": [
            "3e9b8d8ef16646da9dde2b8b32b660a8",
            "a5304781871b4ab9af71e1351a8c7979",
            "ab4665aa2a3e45769006f4c73c774aa8",
            "92a77094a16d4898a7ff5dce3ee76a6b",
            "e4c1b48317d241bca9f978331f43d523",
            "3c08bf35df134afc8015c09107cd9ba2",
            "69e6d066521b46e5a6fd9673a29ac00e",
            "1bd259e167b84ea9b121e518f7fae268",
            "cdec5682991947cd8df67a7b0d6efa54",
            "cb6b7323e22e4e0bb368a66a8b241c82",
            "eeba247465354e9d8edd583da66131f1"
          ]
        },
        "id": "OcdkH1uEC_JH",
        "outputId": "9a4dbc40-20df-4ce5-ccb4-f3883e2e9f81"
      },
      "source": [
        "cities = generate_cities()\n",
        "new_generation = first_generation(cities)\n",
        "current_best_route = get_best_route(new_generation)\n",
        "#show_map(cities, MAP_HEIGHT=MAP_HEIGHT, MAP_WIDTH=MAP_WIDTH, best_route=current_best_route, file_name='initial.jpg') \n",
        "#output.clear()\n",
        "\n",
        "best_route = current_best_route\n",
        "for i in tqdm(range(GENERATIONS), desc = 'Searching suitable solution: '):\n",
        "    new_generation = next_generation(new_generation) \n",
        "    current_best_route = get_best_route(new_generation)\n",
        "    if current_best_route.fitness > best_route.fitness:\n",
        "      best_route = current_best_route"
      ],
      "execution_count": null,
      "outputs": [
        {
          "output_type": "display_data",
          "data": {
            "application/vnd.jupyter.widget-view+json": {
              "model_id": "3e9b8d8ef16646da9dde2b8b32b660a8",
              "version_minor": 0,
              "version_major": 2
            },
            "text/plain": [
              "Searching suitable solution:   0%|          | 0/300 [00:00<?, ?it/s]"
            ]
          },
          "metadata": {}
        }
      ]
    },
    {
      "cell_type": "code",
      "metadata": {
        "colab": {
          "base_uri": "https://localhost:8080/",
          "height": 567
        },
        "id": "yviptEqOGFRg",
        "outputId": "acc5ad9f-e314-4e35-f33f-4689cfbb5b67"
      },
      "source": [
        "show_map(cities, MAP_HEIGHT=MAP_HEIGHT, MAP_WIDTH=MAP_WIDTH, best_route=best_route, file_name='best.jpg') "
      ],
      "execution_count": null,
      "outputs": [
        {
          "output_type": "display_data",
          "data": {
            "image/png": "[encoded data removed]",
            "text/plain": [
              "<PIL.Image.Image image mode=RGB size=400x550 at 0x7F248C669590>"
            ]
          },
          "metadata": {}
        }
      ]
    },
    {
      "cell_type": "code",
      "metadata": {
        "colab": {
          "base_uri": "https://localhost:8080/",
          "height": 567
        },
        "id": "Fn6sB3AsIVz_",
        "outputId": "cf7bdbf1-5728-4d90-c4b1-c9fa407c0e19"
      },
      "source": [
        "import cv2\n",
        "from google.colab.patches import cv2_imshow\n",
        "initial = cv2.imread('initial.jpg')\n",
        "line = np.ones((initial.shape[0], 10, 3)) * 255\n",
        "best = cv2.imread('best.jpg')\n",
        "image = np.hstack([initial, line, best])\n",
        "cv2_imshow(image)"
      ],
      "execution_count": null,
      "outputs": [
        {
          "output_type": "display_data",
          "data": {
            "image/png": "[encoded data removed]",
            "text/plain": [
              "<PIL.Image.Image image mode=RGB size=810x550 at 0x7F248D0E3D10>"
            ]
          },
          "metadata": {}
        }
      ]
    },
    {
      "cell_type": "markdown",
      "metadata": {
        "id": "4KXraaeoGv-s"
      },
      "source": [
        "**RAHUL R BHOSALE - 191070018** \n",
        "\n",
        "**AI MINI PROJECT**\n",
        "\n",
        "~ OVRP(open vehicle routing problem)"
      ]
    }
  ]
}